{
 "cells": [
  {
   "cell_type": "code",
   "execution_count": null,
   "metadata": {
    "collapsed": true
   },
   "outputs": [],
   "source": [
    "from __future__ import division\n",
    "import math\n",
    "import time\n",
    "import scipy.special\n",
    "import scipy.optimize\n",
    "import matplotlib.pyplot as plt\n",
    "import numpy as np\n",
    "import pickle\n",
    "import multiprocessing as mp\n",
    "from functools import partial\n",
    "np.random.seed(0)\n",
    "def get_sigmaset(longer=False):\n",
    "    '''\n",
    "    longer: adds 4 more points in the range 30-70\n",
    "    '''\n",
    "    a = np.linspace(0,.25,num=6)\n",
    "    a[0] = 0.5*a[1]\n",
    "    b = np.linspace(.5,5,num=7)\n",
    "    c = np.linspace(9,30,num=7)\n",
    "    if longer==False:\n",
    "        return np.hstack((np.hstack((a,b)),c))\n",
    "    else:\n",
    "        d = np.linspace(40,70,num=4)\n",
    "        return np.hstack((np.hstack((a,b)),np.hstack((c,d))))"
   ]
  },
  {
   "cell_type": "code",
   "execution_count": null,
   "metadata": {
    "collapsed": true
   },
   "outputs": [],
   "source": [
    "#Settings\n",
    "rev_curves = {'no','full','2stg'}\n",
    "nsampling1stage = 100\n",
    "muz    = 10\n",
    "sigmaz = 1 # 1 # 4\n",
    "sigmaset = get_sigmaset()\n",
    "cost   = 0 # 0 # 3\n",
    "pset   = np.linspace(cost,cost+15,num=200)"
   ]
  },
  {
   "cell_type": "code",
   "execution_count": null,
   "metadata": {
    "collapsed": true
   },
   "outputs": [],
   "source": [
    "def Fullinfo_given_mu(mu,sigma,px):\n",
    "    def fbar(x):\n",
    "        return -x*(scipy.special.erfc((x-mu)/(math.sqrt(2)*sigma))/2)\n",
    "    def f(x):\n",
    "        return -fbar(x)-px\n",
    "    res = scipy.optimize.minimize(fbar,0)\n",
    "    #print([res.x[0],f(res.x[0])])\n",
    "    if f(res.x[0])>=0:\n",
    "        fullinfo_threshold_temp = scipy.optimize.fsolve(f, 0)[0]\n",
    "        fullinfo_adoption_temp = scipy.special.erfc((fullinfo_threshold_temp-mu)/(math.sqrt(2)*sigma))/2\n",
    "    else:\n",
    "        fullinfo_threshold_temp = np.inf\n",
    "        fullinfo_adoption_temp = 0\n",
    "\n",
    "    return (fullinfo_threshold_temp, fullinfo_adoption_temp)\n",
    "\n",
    "def Fullinfo(sigmaz,muz,sigma,px,cost,nsampling1stage,stdnormal_presampled):\n",
    "    adoptemp = np.zeros(nsampling1stage)\n",
    "    thresholdtemp = np.zeros(nsampling1stage)\n",
    "    for s in range(nsampling1stage):\n",
    "        mu = muz + stdnormal_presampled[s]*sigmaz\n",
    "        fullinfo_threshold_temp,fullinfo_adoption_temp = Fullinfo_given_mu(mu,sigma,px)\n",
    "        adoptemp[s] = fullinfo_adoption_temp\n",
    "        thresholdtemp[s] = fullinfo_threshold_temp\n",
    "    fullinfo_rev=(px-cost)*adoptemp.mean()\n",
    "    #print(\"px: {:.2f}, rev: {:.2f}\".format(px,fullinfo_rev))\n",
    "    return fullinfo_rev,thresholdtemp"
   ]
  },
  {
   "cell_type": "code",
   "execution_count": null,
   "metadata": {
    "collapsed": true
   },
   "outputs": [],
   "source": [
    "def Noinfo(sigmaz,muz,sigma,px,cost=0):\n",
    "    sigmatemp = math.sqrt(((sigma**2)*(sigmaz**2))/(sigma**2+sigmaz**2)+sigma**2)\n",
    "    def mutemp(x):\n",
    "        return (x*sigmaz**2 + muz*sigma**2)/(sigmaz**2 + sigma**2)\n",
    "    def fbar(x):\n",
    "        return -x*(scipy.special.erfc((x-mutemp(x))/(math.sqrt(2)*sigmatemp))/2)\n",
    "    def f(x):\n",
    "        return -fbar(x)-px\n",
    "    res = scipy.optimize.minimize(fbar,0)\n",
    "    if f(res.x[0])>= 0:\n",
    "        noinfo_threshold = scipy.optimize.fsolve(f, 0)[0]\n",
    "        noinfo_adoption = scipy.special.erfc((noinfo_threshold-muz)/(math.sqrt(2)*math.sqrt(sigma**2+sigmaz**2)))/2\n",
    "    else:\n",
    "        noinfo_threshold=np.inf\n",
    "        noinfo_adoption = 0\n",
    "    noinfo_rev=(px-cost)*noinfo_adoption\n",
    "    \n",
    "    # print(\"px: {:.2f}, rev: {:.2f}, thres: {:.2f}, adop: {:.2f}, \".format(px,noinfo_rev,noinfo_threshold,noinfo_adoption))\n",
    "    return noinfo_rev,noinfo_threshold,noinfo_adoption"
   ]
  },
  {
   "cell_type": "code",
   "execution_count": null,
   "metadata": {
    "collapsed": true
   },
   "outputs": [],
   "source": [
    "def Vstage(sigmaz,muz,sigma,p1,p2,v1set,nsampling2stage,stdnormal_presampled):\n",
    "    \n",
    "    def diff2(sigmaz,muz,sigma,p1,p2,v1,nsampling2stage,stdnormal_presampled):\n",
    "        difftemp = np.zeros(nsampling2stage)\n",
    "        LHT = np.zeros(nsampling2stage)\n",
    "        \n",
    "        mutemp = (v1*sigmaz**2 + muz*sigma**2)/(sigmaz**2 + sigma**2)\n",
    "        sigmatemp = math.sqrt(((sigma**2)*(sigmaz**2))/(sigma**2+sigmaz**2))\n",
    "        \n",
    "        for s in range(nsampling2stage):\n",
    "            mu = mutemp + stdnormal_presampled[s]*sigmatemp\n",
    "            vfull,_= Fullinfo_given_mu(mu,sigma,p2)\n",
    "            \n",
    "            adopLHtemp=scipy.special.erfc((v1-mu)/(math.sqrt(2)*sigma))/2\n",
    "            if v1 <= vfull: \n",
    "                LH= v1*adopLHtemp-p2\n",
    "            else:\n",
    "                LH = 0\n",
    "            difftemp[s] = LH-(p1-p2)\n",
    "            LHT[s] = LH\n",
    " \n",
    "        diff=difftemp.mean()\n",
    "        EL =-LHT.mean()\n",
    "        return [diff,EL]\n",
    "    \n",
    "    diffv=[]\n",
    "    absdiffv=[]\n",
    "    if len(v1set)==0: #hackinsh code\n",
    "        return np.inf,np.inf\n",
    "    for v1 in v1set:\n",
    "        error=diff2(sigmaz,muz,sigma,p1,p2,v1,nsampling2stage,stdnormal_presampled)[0]\n",
    "        diffv.append(error)\n",
    "        absdiffv.append(abs(error))\n",
    "    if len(diffv)==0: #hackinsh code\n",
    "        return np.inf,np.inf\n",
    "    if max(diffv) < 0:\n",
    "        return np.inf,max(diffv)\n",
    "    #if min(diffv) >= 0:\n",
    "    #    v1index=absdiffv.index(min(absdiffv))\n",
    "    #    v1opt=v1set[v1index]\n",
    "    #    return v1opt,min(diffv)\n",
    "    #if min(absdiffv) > 1:\n",
    "    #    return np.inf,max(diffv)\n",
    "    \n",
    "        \n",
    "    val = min([i for i in diffv if i>=0])\n",
    "    v1index = diffv.index(val)\n",
    "    v1opt=v1set[v1index]\n",
    "    return v1opt,diffv"
   ]
  },
  {
   "cell_type": "code",
   "execution_count": null,
   "metadata": {
    "collapsed": true
   },
   "outputs": [],
   "source": [
    "def Rev2stage(sigmaz,muz,sigma,p1,p2,v1set,cost,nsampling2stage,stdnormal_presampled):\n",
    "    \n",
    "    #opt value of v1\n",
    "    v1,errorval= Vstage(sigmaz,muz,sigma,p1,p2,v1set,nsampling2stage,stdnormal_presampled)\n",
    "    #print('v1',v1,'errorval for first stage constraint',errorval,'p1',p1,'p2',p2)\n",
    "\n",
    "    revsamples = np.zeros(nsampling1stage)\n",
    "    v2thresholds = np.zeros(nsampling1stage)\n",
    "    firststage = (p1-p2)*(scipy.special.erfc((v1-muz)/(math.sqrt(2)*math.sqrt(sigmaz**2+sigma**2)))/2)\n",
    "    #if np.isinf(v1):\n",
    "    #    return 0,revsamples\n",
    "    for s in range(nsampling2stage):\n",
    "        mu = muz + stdnormal_presampled[s]*sigmaz \n",
    "        #opt value of v2\n",
    "        vfull,_= Fullinfo_given_mu(mu,sigma,p2)\n",
    "        #print([mu,vfull])\n",
    "        v2= min(v1, vfull)\n",
    "        \n",
    "        #revenue if v1 and v2(mu) are known\n",
    "        #revtemp= (p1-p2)*(scipy.special.erfc((v1-mu)/(math.sqrt(2)*sigma))/2) \\\n",
    "        revtemp = (p2-cost)*(scipy.special.erfc((v2-mu)/(math.sqrt(2)*sigma))/2)\n",
    "        revsamples[s] = revtemp + firststage\n",
    "        v2thresholds[s] = v2\n",
    "    revstage= revsamples.mean()\n",
    "    return revstage,revsamples,v1,v2thresholds"
   ]
  },
  {
   "cell_type": "code",
   "execution_count": null,
   "metadata": {
    "collapsed": true
   },
   "outputs": [],
   "source": [
    "def optrevNoinfo(pset,sigmaz,muz,sigma,cost):\n",
    "    revno=np.zeros(len(pset))\n",
    "    thresholds = np.zeros(len(pset))\n",
    "    for idxi,p1 in enumerate(pset):\n",
    "        noinfo_rev_temp,noinfo_threshold_temp,noinfo_adoption_temp = Noinfo(sigmaz,muz,sigma,p1,cost)\n",
    "        revno[idxi] = noinfo_rev_temp\n",
    "        thresholds[idxi] = noinfo_threshold_temp\n",
    "    return revno.max(),pset[revno.argmax()],thresholds[revno.argmax()],thresholds"
   ]
  },
  {
   "cell_type": "code",
   "execution_count": null,
   "metadata": {
    "collapsed": true
   },
   "outputs": [],
   "source": [
    "def optrevFullinfo(pset,sigmaz,muz,sigma,cost,nsampling1stage,stdnormal_presampled):\n",
    "    revfull=np.zeros(len(pset))\n",
    "    thresholds = np.zeros((len(pset),nsampling1stage))\n",
    "    for idxi,p2 in enumerate(pset):\n",
    "        fulltemp,fulltemp_thresholds=Fullinfo(sigmaz,muz,sigma,p2,cost,nsampling1stage,stdnormal_presampled)\n",
    "        revfull[idxi] = fulltemp\n",
    "        thresholds[idxi,:] = fulltemp_thresholds\n",
    "    return revfull.max(),pset[revfull.argmax()],thresholds[revfull.argmax(),:]"
   ]
  },
  {
   "cell_type": "code",
   "execution_count": null,
   "metadata": {
    "collapsed": true
   },
   "outputs": [],
   "source": [
    "def optrev2stage(pset,sigmaz,nuz,sigma,cost,nsampling2stage,stdnormal_presampled,noinfo_thresholds=None):\n",
    "    starttime = time.time()\n",
    "    \n",
    "    if noinfo_thresholds is None:\n",
    "        _,_,_,noinfo_thresholds = optrevNoinfo(pset,sigmaz,muz,sigtemp,cost)\n",
    "    \n",
    "    pset2additional = np.linspace(pset[-1],noinfo_thresholds.max(),num=100)\n",
    "    pset2 = np.concatenate([pset,pset2additional])\n",
    "    rev2stage = np.zeros((len(pset),len(pset2)))\n",
    "    v12stage = np.zeros((len(pset),len(pset2)))\n",
    "    v22stage = {}\n",
    "    for idxi,p1 in enumerate(pset):\n",
    "        if idxi%int(len(pset)/10)==0:\n",
    "            print('sigma: ',sigma,'time elapsed: ',np.round(time.time()-starttime,3),' iter:',idxi,' p1:',p1)\n",
    "        for idxj,p2 in enumerate(pset2):\n",
    "            if p2 > p1:\n",
    "                #v1set  = np.linspace(p1,pset[-1],num=10*int(pset[-1]-p1))\n",
    "                noinfo_rev_temp,noinfo_treshold_temp,noinfo_adoption_temp = Noinfo(sigmaz,muz,sigma,p1,cost)\n",
    "                if p2 >= noinfo_treshold_temp:\n",
    "                    revtemp = noinfo_rev_temp\n",
    "                    v1temp = noinfo_treshold_temp\n",
    "                    v2thresholdstemp = np.inf*np.ones(nsampling2stage)\n",
    "                else:\n",
    "                    v1set  = np.linspace(p1,p1+2*sigma,num=int(2*sigma))\n",
    "                    revtemp,_,v1temp,v2thresholdstemp = Rev2stage(sigmaz,muz,sigma,p1,p2,v1set,cost,nsampling2stage,stdnormal_presampled)\n",
    "                rev2stage[idxi,idxj] = revtemp\n",
    "                v12stage[idxi,idxj] = v1temp\n",
    "                v22stage[(idxi,idxj)] = v2thresholdstemp\n",
    "                    \n",
    "    idxiopt, idxjopt = np.unravel_index(rev2stage.argmax(), rev2stage.shape)\n",
    "    return rev2stage.max(),pset[idxiopt],pset2[idxjopt],v12stage[idxiopt,idxjopt],v22stage[(idxiopt,idxjopt)]"
   ]
  },
  {
   "cell_type": "code",
   "execution_count": null,
   "metadata": {
    "collapsed": true
   },
   "outputs": [],
   "source": [
    "def get_revs_full(pset,sigmaz,muz,cost,nsampling1stage,stdnormal_presampled,rev_curves,sigtemp):\n",
    "    rn,rf,r2 = -np.inf,-np.inf,-np.inf\n",
    "    prn,prf,pr2p1,pr2p2 = -np.inf,-np.inf,-np.inf,-np.inf\n",
    "    th_no_vs_p1 = None\n",
    "    th_no,th_full_nsampling1stage,th2_v1,th2_v2_nsampling2stage = None,None,None,None\n",
    "    if 'no' in rev_curves:\n",
    "        rn,prn,th_no,th_no_vs_p1 = optrevNoinfo(pset,sigmaz,muz,sigtemp,cost)\n",
    "    if 'full' in rev_curves:\n",
    "        rf,prf,th_full_nsampling1stage = optrevFullinfo(pset,sigmaz,muz,sigtemp,cost,nsampling1stage,stdnormal_presampled)\n",
    "    if '2stg' in rev_curves:\n",
    "        r2,pr2p1,pr2p2,th2_v1,th2_v2_nsampling2stage = \\\n",
    "        optrev2stage(pset,sigmaz,muz,sigtemp,cost,nsampling2stage,stdnormal_presampled,noinfo_thresholds=th_no_vs_p1)\n",
    "\n",
    "    return {'sigma':sigtemp,'no':rn,'full':rf,'2stg':r2,'prn':prn,'prf':prf,'pr2':(pr2p1,pr2p2),\n",
    "           'th_no':th_no,'th_full_nsampling1stage':th_full_nsampling1stage,'th2_v1':th2_v1,\n",
    "           'th2_v2_nsampling2stage':th2_v2_nsampling2stage}"
   ]
  },
  {
   "cell_type": "code",
   "execution_count": null,
   "metadata": {
    "collapsed": true
   },
   "outputs": [],
   "source": [
    "#Experiment run\n",
    "\n",
    "nsampling2stage = nsampling1stage\n",
    "stdnormal_presampled = np.random.normal(0,1,max(nsampling1stage,nsampling2stage))\n",
    "fname_results = 'results_muz'+str(muz)+'_sigmaz'+str(sigmaz)+'_cost'+str(cost)\\\n",
    "                +'_psetres'+str(len(pset))+'_sigmasetres'+str(len(sigmaset))+'_ncurves'+str(len(rev_curves))+'.pkl'\n",
    "\n",
    "get_revs = partial(get_revs_full,pset,sigmaz,muz,cost,nsampling1stage,stdnormal_presampled,rev_curves)\n",
    "\n",
    "print(len(pset))\n",
    "start_time = time.time()\n",
    "print('START TIME',time.ctime(start_time))\n",
    "pool = mp.Pool(processes=mp.cpu_count())\n",
    "results = pool.map(get_revs,list(sigmaset))\n",
    "pickle.dump(results,open(fname_results,'wb'))\n",
    "print('END TIME',time.ctime(time.time()), '. Time elapsed:',time.time() - start_time)"
   ]
  },
  {
   "cell_type": "code",
   "execution_count": null,
   "metadata": {
    "collapsed": true
   },
   "outputs": [],
   "source": [
    "#Plotting\n",
    "results_temp = {x['sigma']:x for x in results}\n",
    "revx_vs_sigma = np.zeros((3,len(sigmaset)))\n",
    "for idxi,sigtemp in enumerate(sigmaset):\n",
    "    revx_vs_sigma[0,idxi] = results_temp[sigtemp]['no']\n",
    "    revx_vs_sigma[1,idxi] = results_temp[sigtemp]['full']\n",
    "    revx_vs_sigma[2,idxi] = results_temp[sigtemp]['2stg']\n",
    "fig, ax = plt.subplots(1, 1)\n",
    "if len(rev_curves)==3:\n",
    "    names = {0: 'Uninformed', 1:'Informed',2:'Two-stage'}\n",
    "else:\n",
    "    names = {0: 'Uninformed', 1:'Informed'}\n",
    "for g in range(len(rev_curves)):\n",
    "   ax.plot(sigmaset,revx_vs_sigma[g],label=names[g])\n",
    "plt.legend(loc='best')\n",
    "# plt.savefig(filename=\"tempplot.png\")\n",
    "plt.show()"
   ]
  },
  {
   "cell_type": "code",
   "execution_count": null,
   "metadata": {
    "collapsed": true
   },
   "outputs": [],
   "source": [
    "px_vs_sigma = np.zeros((4,len(sigmaset)))\n",
    "for idxi,sigtemp in enumerate(sigmaset):\n",
    "    px_vs_sigma[0,idxi] = results_temp[sigtemp]['prn']\n",
    "    px_vs_sigma[1,idxi] = results_temp[sigtemp]['prf']\n",
    "    px_vs_sigma[2,idxi] = results_temp[sigtemp]['pr2'][0]\n",
    "    px_vs_sigma[3,idxi] = results_temp[sigtemp]['pr2'][1]\n",
    "fig, ax = plt.subplots(1, 1)\n",
    "if len(rev_curves)==2:\n",
    "    names = {0: 'Uninformed Price', 1:'Informed Price'}\n",
    "else:\n",
    "    names = {0: 'Uninformed Price', 1:'Informed Price',2:'Two-stage Price 1',3:'Two-stage Price 2'}\n",
    "for g in range(len(names)):\n",
    "   ax.plot(sigmaset,px_vs_sigma[g],label=names[g])\n",
    "plt.legend(loc='best')\n",
    "plt.show()"
   ]
  }
 ],
 "metadata": {
  "kernelspec": {
   "display_name": "Python 3",
   "language": "python",
   "name": "python3"
  },
  "language_info": {
   "codemirror_mode": {
    "name": "ipython",
    "version": 3
   },
   "file_extension": ".py",
   "mimetype": "text/x-python",
   "name": "python",
   "nbconvert_exporter": "python",
   "pygments_lexer": "ipython3",
   "version": "3.6.2"
  }
 },
 "nbformat": 4,
 "nbformat_minor": 1
}
